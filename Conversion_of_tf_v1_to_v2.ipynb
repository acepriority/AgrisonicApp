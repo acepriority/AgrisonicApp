{
  "nbformat": 4,
  "nbformat_minor": 0,
  "metadata": {
    "colab": {
      "provenance": []
    },
    "kernelspec": {
      "name": "python3",
      "display_name": "Python 3"
    },
    "language_info": {
      "name": "python"
    }
  },
  "cells": [
    {
      "cell_type": "markdown",
      "source": [
        "# **how to use this code**"
      ],
      "metadata": {
        "id": "IJcLhM5D1mfk"
      }
    },
    {
      "cell_type": "code",
      "source": [
        "\"\"\"\n",
        "the cell below is to change code base in a file from tf versions of 1.x to 2.x.\n",
        "Why would we want to do this?\n",
        "The reason is because some modules that were compatible with tf versions 1.x are\n",
        "no longer supported by versions 2.x.\n",
        "\n",
        "Usage;\n",
        "Upload the file in the colab session then change the name of the file to match\n",
        "that of your uploaded file and also change the name of the new file that will\n",
        "be output.\n",
        "\"\"\""
      ],
      "metadata": {
        "id": "TJp0FQ_H1tVr"
      },
      "execution_count": null,
      "outputs": []
    },
    {
      "cell_type": "code",
      "execution_count": 2,
      "metadata": {
        "colab": {
          "base_uri": "https://localhost:8080/"
        },
        "id": "CMmpXYFRz_j5",
        "outputId": "22e3e9d5-46db-4760-ff59-119203e40073"
      },
      "outputs": [
        {
          "output_type": "stream",
          "name": "stdout",
          "text": [
            "2023-09-30 16:02:47.646427: I tensorflow/core/platform/cpu_feature_guard.cc:182] This TensorFlow binary is optimized to use available CPU instructions in performance-critical operations.\n",
            "To enable the following instructions: AVX2 FMA, in other operations, rebuild TensorFlow with the appropriate compiler flags.\n",
            "2023-09-30 16:02:48.905416: W tensorflow/compiler/tf2tensorrt/utils/py_utils.cc:38] TF-TRT Warning: Could not find TensorRT\n",
            "INFO line 10:0: Not upgrading symbols because `tensorflow.compat.v1` was directly imported as `tf`.\n",
            "INFO line 11:0: Renamed 'tf.disable_v2_behavior' to 'tf.compat.v1.disable_v2_behavior'\n",
            "TensorFlow 2.0 Upgrade Script\n",
            "-----------------------------\n",
            "Converted 1 files\n",
            "Detected 0 issues that require attention\n",
            "--------------------------------------------------------------------------------\n",
            "\n",
            "\n",
            "Make sure to read the detailed log 'report.txt'\n",
            "\n"
          ]
        }
      ],
      "source": [
        "!tf_upgrade_v2 --infile ANPRapi.py --outfile tf_v2ANPRapi.py"
      ]
    }
  ]
}