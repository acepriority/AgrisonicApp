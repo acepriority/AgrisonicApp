{
  "nbformat": 4,
  "nbformat_minor": 0,
  "metadata": {
    "colab": {
      "provenance": []
    },
    "kernelspec": {
      "name": "python3",
      "display_name": "Python 3"
    },
    "language_info": {
      "name": "python"
    }
  },
  "cells": [
    {
      "cell_type": "code",
      "execution_count": null,
      "metadata": {
        "id": "Sx4zsB2UBS2L"
      },
      "outputs": [],
      "source": [
        "import numpy as np\n",
        "\n",
        "# Reshape\n",
        "original_array = np.array([[1, 2, 3], [4, 5, 6]])\n",
        "reshaped_array = original_array.reshape((6,))\n",
        "# Reshaped array: [1 2 3 4 5 6]\n",
        "\n",
        "# Permute\n",
        "original_tensor = np.array([[[1, 2], [3, 4]], [[5, 6], [7, 8]]])\n",
        "permuted_tensor = np.transpose(original_tensor, (2, 0, 1))\n",
        "# Permuted tensor: [[[1 3]\n",
        "#                    [5 7]]\n",
        "#\n",
        "#                   [[2 4]\n",
        "#                    [6 8]]]\n",
        "\n",
        "# Squeeze\n",
        "original_tensor = np.array([[[1], [2]], [[3], [4]]])\n",
        "squeezed_tensor = np.squeeze(original_tensor)\n",
        "# Squeezed tensor: [[1 2]\n",
        "#                   [3 4]]\n",
        "\n",
        "# Unsqueeze\n",
        "original_array = np.array([1, 2, 3])\n",
        "unsqueezed_array = np.expand_dims(original_array, axis=0)\n",
        "# Unsqueezed array: [[1 2 3]]\n"
      ]
    }
  ]
}