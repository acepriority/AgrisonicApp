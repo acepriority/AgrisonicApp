{
  "nbformat": 4,
  "nbformat_minor": 0,
  "metadata": {
    "colab": {
      "provenance": []
    },
    "kernelspec": {
      "name": "python3",
      "display_name": "Python 3"
    },
    "language_info": {
      "name": "python"
    }
  },
  "cells": [
    {
      "cell_type": "code",
      "execution_count": null,
      "metadata": {
        "colab": {
          "base_uri": "https://localhost:8080/"
        },
        "id": "VEZbmKkjj6WJ",
        "outputId": "c12b3ae0-7d89-453b-8109-f6828388b32f"
      },
      "outputs": [
        {
          "output_type": "stream",
          "name": "stdout",
          "text": [
            "\u001b[?25l\r\u001b[K     |███████▉                        | 10 kB 18.5 MB/s eta 0:00:01\r\u001b[K     |███████████████▊                | 20 kB 7.1 MB/s eta 0:00:01\r\u001b[K     |███████████████████████▋        | 30 kB 3.5 MB/s eta 0:00:01\r\u001b[K     |███████████████████████████████▌| 40 kB 3.9 MB/s eta 0:00:01\r\u001b[K     |████████████████████████████████| 41 kB 122 kB/s \n",
            "\u001b[?25h"
          ]
        }
      ],
      "source": [
        "!pip install -q einops"
      ]
    },
    {
      "cell_type": "code",
      "source": [
        "import einops\n",
        "import torch\n",
        "import numpy as np\n",
        "\n",
        "import torch.nn as nn"
      ],
      "metadata": {
        "id": "StCNNq9gnTjG"
      },
      "execution_count": null,
      "outputs": []
    },
    {
      "cell_type": "code",
      "source": [
        "x = torch.randn(size=(1, 3, 85, 13, 13))\n",
        "\n",
        "x.shape"
      ],
      "metadata": {
        "colab": {
          "base_uri": "https://localhost:8080/"
        },
        "id": "WrTTwyvzj-Gn",
        "outputId": "39ba9cb0-dd01-4444-f04d-16fdd9e9c1f7"
      },
      "execution_count": null,
      "outputs": [
        {
          "output_type": "execute_result",
          "data": {
            "text/plain": [
              "torch.Size([1, 3, 85, 13, 13])"
            ]
          },
          "metadata": {},
          "execution_count": 4
        }
      ]
    },
    {
      "cell_type": "code",
      "source": [
        "# I would like the shape to be\n",
        "# (1, 3, 13, 13, 85)"
      ],
      "metadata": {
        "id": "uh1Hzyhjne5I"
      },
      "execution_count": null,
      "outputs": []
    },
    {
      "cell_type": "code",
      "source": [
        "y = x.permute(0, 1, 3, 4, 2)\n",
        "y.shape"
      ],
      "metadata": {
        "colab": {
          "base_uri": "https://localhost:8080/"
        },
        "id": "PxgXlrgoNtnm",
        "outputId": "51fa7c6d-8f02-4052-f801-8f4fe80f496f"
      },
      "execution_count": null,
      "outputs": [
        {
          "output_type": "execute_result",
          "data": {
            "text/plain": [
              "torch.Size([1, 3, 13, 13, 85])"
            ]
          },
          "metadata": {},
          "execution_count": 10
        }
      ]
    },
    {
      "cell_type": "code",
      "source": [
        "y1 = einops.rearrange(x, \"b num_anchors p h w -> b num_anchors h w p\")\n",
        "y1.shape"
      ],
      "metadata": {
        "colab": {
          "base_uri": "https://localhost:8080/"
        },
        "id": "otEcdqXpN102",
        "outputId": "9bc72938-36be-4f08-eda7-a8f982f77ee5"
      },
      "execution_count": null,
      "outputs": [
        {
          "output_type": "execute_result",
          "data": {
            "text/plain": [
              "torch.Size([1, 3, 13, 13, 85])"
            ]
          },
          "metadata": {},
          "execution_count": 11
        }
      ]
    },
    {
      "cell_type": "code",
      "source": [
        "# I would like the shape to be\n",
        "# (1, 3 * 13 * 13, 85)"
      ],
      "metadata": {
        "id": "cDKw2lcGOJBv"
      },
      "execution_count": null,
      "outputs": []
    },
    {
      "cell_type": "code",
      "source": [
        "y2 = einops.rearrange(x, \"b num_anchors p h w -> b (num_anchors h w) p\")\n",
        "y2.shape"
      ],
      "metadata": {
        "colab": {
          "base_uri": "https://localhost:8080/"
        },
        "id": "mfx8z3XVO2gB",
        "outputId": "e7e72cf4-317d-4b40-9cf5-bece4f2d0e26"
      },
      "execution_count": null,
      "outputs": [
        {
          "output_type": "execute_result",
          "data": {
            "text/plain": [
              "torch.Size([1, 507, 85])"
            ]
          },
          "metadata": {},
          "execution_count": 13
        }
      ]
    },
    {
      "cell_type": "code",
      "source": [
        "# I would like the reshape\n",
        "# from (1, 507, 85)\n",
        "# to (1, 3, 13, 13, 85)"
      ],
      "metadata": {
        "id": "icrF4bbSP6JV"
      },
      "execution_count": null,
      "outputs": []
    },
    {
      "cell_type": "code",
      "source": [
        "x2 = torch.randn(size=(1, 507, 85))\n",
        "\n",
        "x2.shape"
      ],
      "metadata": {
        "colab": {
          "base_uri": "https://localhost:8080/"
        },
        "id": "PiyqmbC3O_Y5",
        "outputId": "fb7c5670-baef-438d-9eef-ea05dbe69340"
      },
      "execution_count": null,
      "outputs": [
        {
          "output_type": "execute_result",
          "data": {
            "text/plain": [
              "torch.Size([1, 507, 85])"
            ]
          },
          "metadata": {},
          "execution_count": 14
        }
      ]
    },
    {
      "cell_type": "code",
      "source": [
        "y3 = einops.rearrange(\n",
        "    x2,\n",
        "    \"b (num_anchors h w) p -> b num_anchors h w p\",\n",
        "    num_anchors=3, h=13, w=13)\n",
        "\n",
        "y3.shape"
      ],
      "metadata": {
        "colab": {
          "base_uri": "https://localhost:8080/"
        },
        "id": "B4VfI156PtC0",
        "outputId": "8e552231-a5eb-464a-9927-0df379ea45cf"
      },
      "execution_count": null,
      "outputs": [
        {
          "output_type": "execute_result",
          "data": {
            "text/plain": [
              "torch.Size([1, 3, 13, 13, 85])"
            ]
          },
          "metadata": {},
          "execution_count": 20
        }
      ]
    },
    {
      "cell_type": "code",
      "source": [
        "y3 = einops.rearrange(\n",
        "    x2,\n",
        "    \"b (num_anchors h w) p -> b num_anchors h w p\",\n",
        "    num_anchors=3, h=13)\n",
        "\n",
        "y3.shape"
      ],
      "metadata": {
        "colab": {
          "base_uri": "https://localhost:8080/"
        },
        "id": "J8bGYMoHQHnA",
        "outputId": "36f6b3c0-2982-4c47-a95f-72062a1269db"
      },
      "execution_count": null,
      "outputs": [
        {
          "output_type": "execute_result",
          "data": {
            "text/plain": [
              "torch.Size([1, 3, 13, 13, 85])"
            ]
          },
          "metadata": {},
          "execution_count": 23
        }
      ]
    },
    {
      "cell_type": "code",
      "source": [
        "# let's change the code snippet I showed\n",
        "# to you earlier for the sake of completion of\n",
        "# this concept"
      ],
      "metadata": {
        "id": "v54MMV3hQ85J"
      },
      "execution_count": null,
      "outputs": []
    },
    {
      "cell_type": "code",
      "source": [
        "pred = torch.randn(size=(1, 3 * 85, 13, 13))\n",
        "\n",
        "pred_reshaped = pred.permute(0, 2, 3, 1).contiguous().view(1, -1, 85)\n",
        "\n",
        "pred.shape, pred_reshaped.shape"
      ],
      "metadata": {
        "colab": {
          "base_uri": "https://localhost:8080/"
        },
        "id": "s4zDkwknQ9Bb",
        "outputId": "7130dfef-1609-458d-e596-e331454545ac"
      },
      "execution_count": null,
      "outputs": [
        {
          "output_type": "execute_result",
          "data": {
            "text/plain": [
              "(torch.Size([1, 255, 13, 13]), torch.Size([1, 507, 85]))"
            ]
          },
          "metadata": {},
          "execution_count": 24
        }
      ]
    },
    {
      "cell_type": "code",
      "source": [
        "ein_pred = einops.rearrange(pred,\n",
        "                            \"b (num_anchors p) h w -> b (num_anchors h w) p\",\n",
        "                            num_anchors=3,\n",
        "                            h=13,\n",
        "                            w=13)\n",
        "\n",
        "ein_pred.shape"
      ],
      "metadata": {
        "colab": {
          "base_uri": "https://localhost:8080/"
        },
        "id": "IXQh_b9fjqwn",
        "outputId": "e1c39970-ee4d-49ab-a4ed-01b06d451417"
      },
      "execution_count": null,
      "outputs": [
        {
          "output_type": "execute_result",
          "data": {
            "text/plain": [
              "torch.Size([1, 507, 85])"
            ]
          },
          "metadata": {},
          "execution_count": 52
        }
      ]
    },
    {
      "cell_type": "code",
      "source": [
        "# let's handle the ugly reshape\n",
        "\n",
        "w = 13\n",
        "h = 13\n",
        "\n",
        "t = torch.arange(w, dtype=torch.float32)\n",
        "\n",
        "t.shape"
      ],
      "metadata": {
        "colab": {
          "base_uri": "https://localhost:8080/"
        },
        "id": "7cqPG6GJRrTE",
        "outputId": "db91721e-6d1d-4017-d5fd-8b15eaab0e49"
      },
      "execution_count": null,
      "outputs": [
        {
          "output_type": "execute_result",
          "data": {
            "text/plain": [
              "torch.Size([13])"
            ]
          },
          "metadata": {},
          "execution_count": 33
        }
      ]
    },
    {
      "cell_type": "code",
      "source": [
        "ugly_c_x = t.reshape(1, 1, -1, 1)\n",
        "\n",
        "ugly_c_x.shape"
      ],
      "metadata": {
        "colab": {
          "base_uri": "https://localhost:8080/"
        },
        "id": "5jjelXQ_S5lq",
        "outputId": "e006bfdb-e752-4e74-a367-becfdceace65"
      },
      "execution_count": null,
      "outputs": [
        {
          "output_type": "execute_result",
          "data": {
            "text/plain": [
              "torch.Size([1, 1, 13, 1])"
            ]
          },
          "metadata": {},
          "execution_count": 34
        }
      ]
    },
    {
      "cell_type": "code",
      "source": [
        "nice_c_x = einops.rearrange(t, \"w -> 1 1 w 1\")\n",
        "\n",
        "nice_c_x.shape"
      ],
      "metadata": {
        "colab": {
          "base_uri": "https://localhost:8080/"
        },
        "id": "gOaKDUMhSgXK",
        "outputId": "4996a371-5521-41cf-effa-d4803a95c036"
      },
      "execution_count": null,
      "outputs": [
        {
          "output_type": "execute_result",
          "data": {
            "text/plain": [
              "torch.Size([1, 1, 13, 1])"
            ]
          },
          "metadata": {},
          "execution_count": 35
        }
      ]
    },
    {
      "cell_type": "code",
      "source": [
        "torch.allclose(ugly_c_x, nice_c_x)"
      ],
      "metadata": {
        "colab": {
          "base_uri": "https://localhost:8080/"
        },
        "id": "y12oMVhQSug8",
        "outputId": "631240f1-f254-4398-f77a-7a3c1d8a500d"
      },
      "execution_count": null,
      "outputs": [
        {
          "output_type": "execute_result",
          "data": {
            "text/plain": [
              "True"
            ]
          },
          "metadata": {},
          "execution_count": 36
        }
      ]
    },
    {
      "cell_type": "code",
      "source": [
        "nice_c_x.shape"
      ],
      "metadata": {
        "colab": {
          "base_uri": "https://localhost:8080/"
        },
        "id": "pCIlx3V3TAAV",
        "outputId": "82ecfc0a-f83b-45e0-e076-5ae4a0c7dad5"
      },
      "execution_count": null,
      "outputs": [
        {
          "output_type": "execute_result",
          "data": {
            "text/plain": [
              "torch.Size([1, 1, 13, 1])"
            ]
          },
          "metadata": {},
          "execution_count": 37
        }
      ]
    },
    {
      "cell_type": "code",
      "source": [
        "torch.squeeze(nice_c_x).shape"
      ],
      "metadata": {
        "colab": {
          "base_uri": "https://localhost:8080/"
        },
        "id": "3dxP-bjUTZ3_",
        "outputId": "2fecc0da-8ed1-4d3f-fd80-c936a1858685"
      },
      "execution_count": null,
      "outputs": [
        {
          "output_type": "execute_result",
          "data": {
            "text/plain": [
              "torch.Size([13])"
            ]
          },
          "metadata": {},
          "execution_count": 38
        }
      ]
    },
    {
      "cell_type": "code",
      "source": [
        "torch.squeeze(nice_c_x, 0).shape"
      ],
      "metadata": {
        "colab": {
          "base_uri": "https://localhost:8080/"
        },
        "id": "8uOl1DPgTfOx",
        "outputId": "5bc4be0b-c076-4cb1-af0b-ba0686a523b9"
      },
      "execution_count": null,
      "outputs": [
        {
          "output_type": "execute_result",
          "data": {
            "text/plain": [
              "torch.Size([1, 13, 1])"
            ]
          },
          "metadata": {},
          "execution_count": 43
        }
      ]
    },
    {
      "cell_type": "code",
      "source": [
        "einops.rearrange(nice_c_x, \"1 1 w 1 -> 1 w\").shape"
      ],
      "metadata": {
        "colab": {
          "base_uri": "https://localhost:8080/"
        },
        "id": "xfxrTR9QTixB",
        "outputId": "8b7e6b14-3026-4350-d8af-56e794023df1"
      },
      "execution_count": null,
      "outputs": [
        {
          "output_type": "execute_result",
          "data": {
            "text/plain": [
              "torch.Size([1, 13])"
            ]
          },
          "metadata": {},
          "execution_count": 44
        }
      ]
    },
    {
      "cell_type": "code",
      "source": [
        "# The Rarrange pytorch layer\n",
        "from einops.layers.torch import Rearrange"
      ],
      "metadata": {
        "id": "rFXW72CNT8yc"
      },
      "execution_count": null,
      "outputs": []
    },
    {
      "cell_type": "code",
      "source": [
        "class ANeuralNetwork(nn.Module):\n",
        "  def __init__(self,\n",
        "               in_channels:int,\n",
        "               num_anchors_per_cell:int,\n",
        "               num_classes:int):\n",
        "\n",
        "    super().__init__()\n",
        "\n",
        "    num_predicted_channels = num_anchors_per_cell * (4 + 1 + num_classes)\n",
        "\n",
        "    self.conv = nn.Conv2d(\n",
        "        in_channels=in_channels,\n",
        "        out_channels=num_predicted_channels,\n",
        "        kernel_size=1,\n",
        "        stride=1,\n",
        "    )\n",
        "\n",
        "    self.rearrange = Rearrange(\"b (num_anchors_per_cell p) h w -> b num_anchors_per_cell h w p\",\n",
        "                               num_anchors_per_cell=num_anchors_per_cell)\n",
        "\n",
        "\n",
        "  def forward(self, x: torch.Tensor) -> torch.Tensor:\n",
        "    x = self.conv(x)\n",
        "    x = self.rearrange(x)\n",
        "    return x\n",
        ""
      ],
      "metadata": {
        "id": "W3e3sWHXeEbf"
      },
      "execution_count": null,
      "outputs": []
    },
    {
      "cell_type": "code",
      "source": [
        "net = ANeuralNetwork(in_channels=512, num_anchors_per_cell=3, num_classes=80)\n",
        "\n",
        "input_x = torch.randn(size=(1, 512, 13, 13))\n",
        "\n",
        "output = net(input_x)\n",
        "\n",
        "output.shape"
      ],
      "metadata": {
        "colab": {
          "base_uri": "https://localhost:8080/"
        },
        "id": "mV9RL1ILfNIu",
        "outputId": "e1f854d9-bf34-4d0d-88c3-00bc063f847c"
      },
      "execution_count": null,
      "outputs": [
        {
          "output_type": "execute_result",
          "data": {
            "text/plain": [
              "torch.Size([1, 3, 13, 13, 85])"
            ]
          },
          "metadata": {},
          "execution_count": 51
        }
      ]
    },
    {
      "cell_type": "code",
      "source": [],
      "metadata": {
        "id": "CmBRM3WDfn8D"
      },
      "execution_count": null,
      "outputs": []
    }
  ]
}