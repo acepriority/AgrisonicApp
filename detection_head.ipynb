{
  "cells": [
    {
      "cell_type": "code",
      "source": [
        "from __future__ import annotations"
      ],
      "metadata": {
        "id": "h5zBCJ-ZW9WP"
      },
      "execution_count": null,
      "outputs": []
    },
    {
      "cell_type": "code",
      "source": [
        "!pip install -q einops"
      ],
      "metadata": {
        "id": "cGsrkZ2NhYbH"
      },
      "execution_count": null,
      "outputs": []
    },
    {
      "cell_type": "code",
      "execution_count": null,
      "metadata": {
        "id": "lIYdn1woOS1n"
      },
      "outputs": [],
      "source": [
        "import torch\n",
        "import torch.nn as nn\n",
        "\n",
        "from typing import NamedTuple\n",
        "\n",
        "import einops"
      ]
    },
    {
      "cell_type": "code",
      "source": [
        "class FakeBackboneResult(NamedTuple):\n",
        "  hl_features: torch.Tensor\n",
        "  ml_features: torch.Tensor\n",
        "  ll_features: torch.Tensor"
      ],
      "metadata": {
        "id": "8tAwXXwkPOdR"
      },
      "execution_count": null,
      "outputs": []
    },
    {
      "cell_type": "code",
      "source": [
        "class FakeBackbone(nn.Module):\n",
        "  def __init__(self):\n",
        "    super().__init__()\n",
        "\n",
        "  def forward(self, x: torch.Tensor) -> FakeBackboneResult:\n",
        "    hl_fm = torch.randn(size=(1, 512, 13, 13))\n",
        "    ml_fm = torch.randn(size=(1, 256, 26, 26))\n",
        "    ll_fm = torch.randn(size=(1, 128, 52, 52))\n",
        "\n",
        "    return FakeBackboneResult(\n",
        "        hl_features=hl_fm,\n",
        "        ml_features=ml_fm,\n",
        "        ll_features=ll_fm\n",
        "    )"
      ],
      "metadata": {
        "id": "m3W1-FcKWtoL"
      },
      "execution_count": null,
      "outputs": []
    },
    {
      "cell_type": "code",
      "source": [
        "backbone = FakeBackbone()\n",
        "\n",
        "backbone_output = backbone(torch.randn(size=(1, 3, 416, 416)))"
      ],
      "metadata": {
        "id": "FzNrtyMaXApH"
      },
      "execution_count": null,
      "outputs": []
    },
    {
      "cell_type": "code",
      "source": [
        "backbone_output.hl_features.shape"
      ],
      "metadata": {
        "id": "8AsPZWWRXqQ4",
        "outputId": "dc1d1fe5-74df-4895-eb11-854aa2f6f8d0",
        "colab": {
          "base_uri": "https://localhost:8080/"
        }
      },
      "execution_count": null,
      "outputs": [
        {
          "output_type": "execute_result",
          "data": {
            "text/plain": [
              "torch.Size([1, 512, 13, 13])"
            ]
          },
          "metadata": {},
          "execution_count": 35
        }
      ]
    },
    {
      "cell_type": "code",
      "source": [
        "backbone_output.ml_features.shape"
      ],
      "metadata": {
        "colab": {
          "base_uri": "https://localhost:8080/"
        },
        "id": "hbRFsVBTP7YA",
        "outputId": "6ca2e294-9458-4c4f-e3c2-e3cfa7239754"
      },
      "execution_count": null,
      "outputs": [
        {
          "output_type": "execute_result",
          "data": {
            "text/plain": [
              "torch.Size([1, 256, 26, 26])"
            ]
          },
          "metadata": {},
          "execution_count": 36
        }
      ]
    },
    {
      "cell_type": "code",
      "source": [
        "backbone_output.ll_features.shape"
      ],
      "metadata": {
        "colab": {
          "base_uri": "https://localhost:8080/"
        },
        "id": "2RYiZwjlP9aF",
        "outputId": "c93eb348-e583-4ab7-f469-fe768d683bd6"
      },
      "execution_count": null,
      "outputs": [
        {
          "output_type": "execute_result",
          "data": {
            "text/plain": [
              "torch.Size([1, 128, 52, 52])"
            ]
          },
          "metadata": {},
          "execution_count": 37
        }
      ]
    },
    {
      "cell_type": "code",
      "source": [
        "class DetectionHead(nn.Module):\n",
        "  def __init__(self,\n",
        "        in_channels: int,\n",
        "        num_boxes_per_cell: int,\n",
        "        num_classes: int):\n",
        "    super().__init__()\n",
        "\n",
        "    num_predicted_channels = num_boxes_per_cell * (4 + 1 + num_classes)\n",
        "\n",
        "    self.conv = nn.Conv2d(\n",
        "        in_channels=in_channels,\n",
        "        out_channels=num_predicted_channels,\n",
        "        kernel_size=1,\n",
        "        stride=1,\n",
        "    )\n",
        "\n",
        "  def forward(self, x:torch.Tensor) -> torch.Tensor:\n",
        "    x = self.conv(x)\n",
        "    return x"
      ],
      "metadata": {
        "id": "wQw0vhsdXvdh"
      },
      "execution_count": null,
      "outputs": []
    },
    {
      "cell_type": "code",
      "source": [
        "hl_detector = DetectionHead(in_channels=512, num_boxes_per_cell=3, num_classes=3)\n",
        "\n",
        "hl_detections = hl_detector(backbone_output.hl_features)\n",
        "hl_detections.shape"
      ],
      "metadata": {
        "colab": {
          "base_uri": "https://localhost:8080/"
        },
        "id": "pkICl2vKJ4Sv",
        "outputId": "f1fbc52d-2523-4e3a-f339-9cd40749fc01"
      },
      "execution_count": null,
      "outputs": [
        {
          "output_type": "execute_result",
          "data": {
            "text/plain": [
              "torch.Size([1, 24, 13, 13])"
            ]
          },
          "metadata": {},
          "execution_count": 39
        }
      ]
    },
    {
      "cell_type": "code",
      "source": [
        "ml_detector = DetectionHead(in_channels=256, num_boxes_per_cell=3, num_classes=3)\n",
        "ll_detector = DetectionHead(in_channels=128, num_boxes_per_cell=3, num_classes=3)"
      ],
      "metadata": {
        "id": "wfeT6-oIYXCL"
      },
      "execution_count": null,
      "outputs": []
    },
    {
      "cell_type": "code",
      "source": [
        "ml_detections = ml_detector(backbone_output.ml_features)\n",
        "ml_detections.shape"
      ],
      "metadata": {
        "id": "cnmmJMCDYpzM",
        "outputId": "d5b614d9-6f7f-4585-a218-34a33ffbc891",
        "colab": {
          "base_uri": "https://localhost:8080/"
        }
      },
      "execution_count": null,
      "outputs": [
        {
          "output_type": "execute_result",
          "data": {
            "text/plain": [
              "torch.Size([1, 24, 26, 26])"
            ]
          },
          "metadata": {},
          "execution_count": 41
        }
      ]
    },
    {
      "cell_type": "code",
      "source": [
        "ll_detections = ll_detector(backbone_output.ll_features)\n",
        "ll_detections.shape"
      ],
      "metadata": {
        "colab": {
          "base_uri": "https://localhost:8080/"
        },
        "id": "fQOxI8iYYCOu",
        "outputId": "7b251baf-491e-4f7c-cb50-5c308ebb0c70"
      },
      "execution_count": null,
      "outputs": [
        {
          "output_type": "execute_result",
          "data": {
            "text/plain": [
              "torch.Size([1, 24, 52, 52])"
            ]
          },
          "metadata": {},
          "execution_count": 42
        }
      ]
    },
    {
      "cell_type": "code",
      "source": [],
      "metadata": {
        "id": "7XppfHLphXAy"
      },
      "execution_count": null,
      "outputs": []
    },
    {
      "cell_type": "code",
      "source": [
        "hl_detections_for_training = einops.rearrange(hl_detections,\n",
        "                                          \"b (num_anchors_per_cell p) h w -> b num_anchors_per_cell h w p\",\n",
        "                                          num_anchors_per_cell=3)\n",
        "\n",
        "hl_detections_for_training.shape"
      ],
      "metadata": {
        "colab": {
          "base_uri": "https://localhost:8080/"
        },
        "id": "hoqc9gIEhe2F",
        "outputId": "647caf6c-e3e7-4866-c672-b84f92473749"
      },
      "execution_count": null,
      "outputs": [
        {
          "output_type": "execute_result",
          "data": {
            "text/plain": [
              "torch.Size([1, 3, 13, 13, 8])"
            ]
          },
          "metadata": {},
          "execution_count": 43
        }
      ]
    },
    {
      "cell_type": "code",
      "source": [
        "pred_for_box0_at_cell_15 = hl_detections_for_training[0][0][1][5]\n",
        "pred_for_box1_at_cell_15 = hl_detections_for_training[0][1][1][5]\n",
        "pred_for_box2_at_cell_15 = hl_detections_for_training[0][2][1][5]\n",
        "\n",
        "pred_for_box0_at_cell_15.shape"
      ],
      "metadata": {
        "colab": {
          "base_uri": "https://localhost:8080/"
        },
        "id": "PNgp5c7SQdfi",
        "outputId": "7a05cabc-0e3d-4c6b-b93b-fb03c05b2014"
      },
      "execution_count": null,
      "outputs": [
        {
          "output_type": "execute_result",
          "data": {
            "text/plain": [
              "torch.Size([8])"
            ]
          },
          "metadata": {},
          "execution_count": 44
        }
      ]
    },
    {
      "cell_type": "code",
      "source": [
        "box_coordinates = pred_for_box0_at_cell_15[:4]\n",
        "box_objectness = pred_for_box0_at_cell_15[4]\n",
        "box_classes = pred_for_box0_at_cell_15[5:]\n",
        "\n",
        "box_coordinates, box_objectness, box_classes"
      ],
      "metadata": {
        "colab": {
          "base_uri": "https://localhost:8080/"
        },
        "id": "WTjmQda3Q7Df",
        "outputId": "87b8b3cc-1032-4f86-af1b-26c13a7c229b"
      },
      "execution_count": null,
      "outputs": [
        {
          "output_type": "execute_result",
          "data": {
            "text/plain": [
              "(tensor([-0.8510,  0.5855,  0.5353,  0.0370], grad_fn=<SliceBackward0>),\n",
              " tensor(0.4091, grad_fn=<SelectBackward0>),\n",
              " tensor([-0.5069,  0.3296, -1.0508], grad_fn=<SliceBackward0>))"
            ]
          },
          "metadata": {},
          "execution_count": 45
        }
      ]
    },
    {
      "cell_type": "code",
      "source": [
        "pred_for_coordinates = hl_detections_for_training[...,:4]\n",
        "\n",
        "pred_for_coordinates.shape"
      ],
      "metadata": {
        "colab": {
          "base_uri": "https://localhost:8080/"
        },
        "id": "In7VyM9bRh5W",
        "outputId": "f39dde9f-86e0-4c10-f219-d27a5277c61a"
      },
      "execution_count": null,
      "outputs": [
        {
          "output_type": "execute_result",
          "data": {
            "text/plain": [
              "torch.Size([1, 3, 13, 13, 4])"
            ]
          },
          "metadata": {},
          "execution_count": 46
        }
      ]
    },
    {
      "cell_type": "code",
      "source": [
        "pred_for_objectness = hl_detections_for_training[..., 4]\n",
        "\n",
        "pred_for_objectness.shape"
      ],
      "metadata": {
        "colab": {
          "base_uri": "https://localhost:8080/"
        },
        "id": "f7RHTZQpy5Jz",
        "outputId": "956f3e35-25c2-449e-9827-78bfbe357a9a"
      },
      "execution_count": null,
      "outputs": [
        {
          "output_type": "execute_result",
          "data": {
            "text/plain": [
              "torch.Size([1, 3, 13, 13])"
            ]
          },
          "metadata": {},
          "execution_count": 47
        }
      ]
    },
    {
      "cell_type": "code",
      "source": [
        "pred_for_classes = hl_detections_for_training[..., 5:]\n",
        "\n",
        "pred_for_classes.shape"
      ],
      "metadata": {
        "colab": {
          "base_uri": "https://localhost:8080/"
        },
        "id": "9_nR3VwszA_V",
        "outputId": "093cb84c-5fe9-46a6-d6d5-9dc5fe76e8ba"
      },
      "execution_count": null,
      "outputs": [
        {
          "output_type": "execute_result",
          "data": {
            "text/plain": [
              "torch.Size([1, 3, 13, 13, 3])"
            ]
          },
          "metadata": {},
          "execution_count": 48
        }
      ]
    },
    {
      "cell_type": "code",
      "source": [
        "hl_detections_for_final_prediction = einops.rearrange(hl_detections,\n",
        "                                          \"b (num_anchors_per_cell p) h w -> b (num_anchors_per_cell h w) p\",\n",
        "                                          num_anchors_per_cell=3, h=13, w=13)\n",
        "\n",
        "hl_detections_for_final_prediction.shape"
      ],
      "metadata": {
        "colab": {
          "base_uri": "https://localhost:8080/"
        },
        "id": "ubMdU41Lc00h",
        "outputId": "843abc19-d36e-4dbf-f1f3-58170d53abfe"
      },
      "execution_count": null,
      "outputs": [
        {
          "output_type": "execute_result",
          "data": {
            "text/plain": [
              "torch.Size([1, 507, 8])"
            ]
          },
          "metadata": {},
          "execution_count": 49
        }
      ]
    },
    {
      "cell_type": "markdown",
      "source": [],
      "metadata": {
        "id": "8KyiUQFBttpB"
      }
    }
  ],
  "metadata": {
    "colab": {
      "provenance": []
    },
    "kernelspec": {
      "display_name": "Python 3",
      "name": "python3"
    }
  },
  "nbformat": 4,
  "nbformat_minor": 0
}